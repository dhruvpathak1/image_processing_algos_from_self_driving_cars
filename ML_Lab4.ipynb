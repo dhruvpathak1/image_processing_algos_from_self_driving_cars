{
  "nbformat": 4,
  "nbformat_minor": 0,
  "metadata": {
    "colab": {
      "name": "ML_Lab4.ipynb",
      "provenance": [],
      "authorship_tag": "ABX9TyM39EyKlAzJ3XkZSESDLxlC",
      "include_colab_link": true
    },
    "kernelspec": {
      "name": "python3",
      "display_name": "Python 3"
    },
    "language_info": {
      "name": "python"
    }
  },
  "cells": [
    {
      "cell_type": "markdown",
      "metadata": {
        "id": "view-in-github",
        "colab_type": "text"
      },
      "source": [
        "<a href=\"https://colab.research.google.com/github/dhruvpathak1/image_processing_algos_from_self_driving_cars/blob/main/ML_Lab4.ipynb\" target=\"_parent\"><img src=\"https://colab.research.google.com/assets/colab-badge.svg\" alt=\"Open In Colab\"/></a>"
      ]
    },
    {
      "cell_type": "code",
      "metadata": {
        "id": "hke-ErPLyXaM"
      },
      "source": [
        "import numpy as np\n",
        "import matplotlib\n",
        "import sklearn\n",
        "import matplotlib.pyplot as plt\n",
        "import pandas as pd\n",
        "from sklearn import datasets\n",
        "\n",
        "data = pd.read_csv(\"https://raw.githubusercontent.com/dhruvpathak1/ml_dataset/main/Summary%20of%20Weather.csv\")"
      ],
      "execution_count": 19,
      "outputs": []
    },
    {
      "cell_type": "code",
      "metadata": {
        "colab": {
          "base_uri": "https://localhost:8080/"
        },
        "id": "DnLzFe7ZzhoX",
        "outputId": "b918892e-6874-4fc2-fe2d-10f923704546"
      },
      "source": [
        "data.shape"
      ],
      "execution_count": 4,
      "outputs": [
        {
          "output_type": "execute_result",
          "data": {
            "text/plain": [
              "(821, 23)"
            ]
          },
          "metadata": {
            "tags": []
          },
          "execution_count": 4
        }
      ]
    },
    {
      "cell_type": "code",
      "metadata": {
        "colab": {
          "base_uri": "https://localhost:8080/"
        },
        "id": "oiRL3xNGzp9L",
        "outputId": "d536d5bb-b018-4fb2-abeb-73590ab328d1"
      },
      "source": [
        "data.info()"
      ],
      "execution_count": 5,
      "outputs": [
        {
          "output_type": "stream",
          "text": [
            "<class 'pandas.core.frame.DataFrame'>\n",
            "RangeIndex: 821 entries, 0 to 820\n",
            "Data columns (total 23 columns):\n",
            " #   Column       Non-Null Count  Dtype  \n",
            "---  ------       --------------  -----  \n",
            " 0   PoorWeather  189 non-null    float64\n",
            " 1   YR           821 non-null    int64  \n",
            " 2   MO           821 non-null    int64  \n",
            " 3   DA           821 non-null    int64  \n",
            " 4   PRCP         821 non-null    object \n",
            " 5   DR           0 non-null      float64\n",
            " 6   SPD          0 non-null      float64\n",
            " 7   MAX          821 non-null    int64  \n",
            " 8   MIN          821 non-null    int64  \n",
            " 9   MEA          821 non-null    int64  \n",
            " 10  SNF          821 non-null    int64  \n",
            " 11  SND          0 non-null      float64\n",
            " 12  FT           0 non-null      float64\n",
            " 13  FB           0 non-null      float64\n",
            " 14  FTI          0 non-null      float64\n",
            " 15  ITH          0 non-null      float64\n",
            " 16  PGT          0 non-null      float64\n",
            " 17  TSHDSBRSGF   189 non-null    float64\n",
            " 18  SD3          0 non-null      float64\n",
            " 19  RHX          0 non-null      float64\n",
            " 20  RHN          0 non-null      float64\n",
            " 21  RVG          0 non-null      float64\n",
            " 22  WTE          0 non-null      float64\n",
            "dtypes: float64(15), int64(7), object(1)\n",
            "memory usage: 147.6+ KB\n"
          ],
          "name": "stdout"
        }
      ]
    },
    {
      "cell_type": "code",
      "metadata": {
        "colab": {
          "base_uri": "https://localhost:8080/"
        },
        "id": "Xo6YL9L8zvKO",
        "outputId": "85154067-20ef-4ab0-9400-2e33dd838813"
      },
      "source": [
        "from sklearn.linear_model import LinearRegression\n",
        "lm = LinearRegression()\n",
        "lm"
      ],
      "execution_count": 9,
      "outputs": [
        {
          "output_type": "execute_result",
          "data": {
            "text/plain": [
              "LinearRegression(copy_X=True, fit_intercept=True, n_jobs=None, normalize=False)"
            ]
          },
          "metadata": {
            "tags": []
          },
          "execution_count": 9
        }
      ]
    },
    {
      "cell_type": "code",
      "metadata": {
        "colab": {
          "base_uri": "https://localhost:8080/"
        },
        "id": "3HY9n7SPz4Zg",
        "outputId": "b5df7ffa-54d8-4412-f6c1-4da15bc5fe33"
      },
      "source": [
        "X = data[['MIN']]\n",
        "Y = data['MAX']\n",
        "# fit the linear model using MIN\n",
        "lm.fit(X,Y)\n",
        "# training data is passed to fit method"
      ],
      "execution_count": 15,
      "outputs": [
        {
          "output_type": "execute_result",
          "data": {
            "text/plain": [
              "LinearRegression(copy_X=True, fit_intercept=True, n_jobs=None, normalize=False)"
            ]
          },
          "metadata": {
            "tags": []
          },
          "execution_count": 15
        }
      ]
    },
    {
      "cell_type": "code",
      "metadata": {
        "colab": {
          "base_uri": "https://localhost:8080/"
        },
        "id": "38djvYcX0IgZ",
        "outputId": "0d28c658-69d3-4412-f7a0-2380f0fb088a"
      },
      "source": [
        "Yhat=lm.predict(X)\n",
        "Yhat[0:10]"
      ],
      "execution_count": 18,
      "outputs": [
        {
          "output_type": "execute_result",
          "data": {
            "text/plain": [
              "array([86.15332371, 85.16045518, 86.15332371, 86.15332371, 85.16045518,\n",
              "       85.16045518, 87.14619224, 86.15332371, 87.14619224, 85.16045518])"
            ]
          },
          "metadata": {
            "tags": []
          },
          "execution_count": 18
        }
      ]
    },
    {
      "cell_type": "code",
      "metadata": {
        "colab": {
          "base_uri": "https://localhost:8080/",
          "height": 279
        },
        "id": "NtZkIAc-0MnJ",
        "outputId": "531bcf12-c9a4-46ef-9ef7-3cdfa66cf31d"
      },
      "source": [
        "# plot regression model\n",
        "plt.scatter(data['MIN'],Y)\n",
        "# X,Y\n",
        "plt.plot(data['MIN'],Yhat,color='red')\n",
        "plt.xlabel('MIN')\n",
        "plt.ylabel('MAX')\n",
        "plt.show()"
      ],
      "execution_count": 14,
      "outputs": [
        {
          "output_type": "display_data",
          "data": {
            "image/png": "[encoded data removed]",
            "text/plain": [
              "<Figure size 432x288 with 1 Axes>"
            ]
          },
          "metadata": {
            "tags": [],
            "needs_background": "light"
          }
        }
      ]
    },
    {
      "cell_type": "code",
      "metadata": {
        "colab": {
          "base_uri": "https://localhost:8080/"
        },
        "id": "nvHZkTkX0X-k",
        "outputId": "f4347237-c50d-4079-adfb-d0673d818241"
      },
      "source": [
        "print(lm.intercept_)\n",
        "print(lm.coef_)"
      ],
      "execution_count": 13,
      "outputs": [
        {
          "output_type": "stream",
          "text": [
            "14.666789713361737\n",
            "[0.99286853]\n"
          ],
          "name": "stdout"
        }
      ]
    },
    {
      "cell_type": "code",
      "metadata": {
        "colab": {
          "base_uri": "https://localhost:8080/"
        },
        "id": "H8o4sBKd49Dw",
        "outputId": "e0a61461-0b80-4363-a68b-d6cb605c6775"
      },
      "source": [
        "from sklearn.metrics import mean_squared_error, r2_score\n",
        "\n",
        "# model evaluation\n",
        "rmse = mean_squared_error(Y, Yhat)\n",
        "r2 = r2_score(Y, Yhat)\n",
        "\n",
        "print('Root mean squared error: ', rmse)\n",
        "print('R2 score: ', r2)"
      ],
      "execution_count": 17,
      "outputs": [
        {
          "output_type": "stream",
          "text": [
            "Root mean squared error:  14.024860190910182\n",
            "R2 score:  0.2981812008572319\n"
          ],
          "name": "stdout"
        }
      ]
    }
  ]
}